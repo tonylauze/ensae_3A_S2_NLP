{
 "cells": [
  {
   "cell_type": "markdown",
   "id": "6a562b5f",
   "metadata": {},
   "source": [
    "# III - Comparison with a State-of-the-Art LLM\n",
    "\n",
    "In this notebook, we aim to compare the performance obtained in `2_prediction_benchmark.ipynb` with that of a recent large language model (LLM) for sentiment classification on our IMDB dataset.\n",
    "\n",
    "We will use pretrained deep learning models available on the Hugging Face platform. Among the available models, we choose the **DistilBERT base uncased fine-tuned on SST-2**. This model is a version of the base **DistilBERT** that has been fine-tuned on the **Stanford Sentiment Treebank v2 (SST-2)** dataset.\n",
    "\n",
    "The **SST-2** corpus consists of 11,855 individual sentences extracted from movie reviews. These sentences were parsed using the Stanford Parser and further expanded into 215,154 unique phrases, each annotated for sentiment (positive or negative) by three human judges. The dataset originates from the work of Pang and Lee (2005) and allows for fine-grained sentiment analysis based on syntactic structure.\n",
    "\n",
    "This model is particularly well-suited for **binary sentiment classification** in English, which is exactly the task we aim to perform here.\n",
    "\n",
    "> **Note:** The original **DistilBERT** model is a *distilled* version of BERT, introduced in the paper:\n",
    ">\n",
    "> **Sanh, V., Debut, L., Chaumond, J., & Wolf, T. (2020)**. *DistilBERT, a distilled version of BERT: smaller, faster, cheaper and lighter*. arXiv preprint [arXiv:1910.01108](https://arxiv.org/abs/1910.01108)\n",
    ">\n",
    "> The purpose of model distillation is to compress large models like BERT into smaller ones while preserving most of their performance. This makes the model faster and more lightweight, significantly reducing training and inference time.\n",
    "\n",
    "In summary, the DistilBERT SST-2 model is a lightweight yet powerful model specifically optimized for sentiment classification on movie reviews, making it an ideal benchmark for our task.\n",
    "\n",
    "----"
   ]
  },
  {
   "cell_type": "code",
   "execution_count": 1,
   "id": "7df7cdca",
   "metadata": {},
   "outputs": [
    {
     "name": "stdout",
     "output_type": "stream",
     "text": [
      "Requirement already satisfied: huggingface_hub[hf_xet] in ./.venv/lib/python3.10/site-packages (0.30.2)\n",
      "Requirement already satisfied: filelock in ./.venv/lib/python3.10/site-packages (from huggingface_hub[hf_xet]) (3.18.0)\n",
      "Requirement already satisfied: fsspec>=2023.5.0 in ./.venv/lib/python3.10/site-packages (from huggingface_hub[hf_xet]) (2025.3.2)\n",
      "Requirement already satisfied: packaging>=20.9 in ./.venv/lib/python3.10/site-packages (from huggingface_hub[hf_xet]) (24.2)\n",
      "Requirement already satisfied: pyyaml>=5.1 in ./.venv/lib/python3.10/site-packages (from huggingface_hub[hf_xet]) (6.0.2)\n",
      "Requirement already satisfied: requests in ./.venv/lib/python3.10/site-packages (from huggingface_hub[hf_xet]) (2.32.3)\n",
      "Requirement already satisfied: tqdm>=4.42.1 in ./.venv/lib/python3.10/site-packages (from huggingface_hub[hf_xet]) (4.67.1)\n",
      "Requirement already satisfied: typing-extensions>=3.7.4.3 in ./.venv/lib/python3.10/site-packages (from huggingface_hub[hf_xet]) (4.13.2)\n",
      "Collecting hf-xet>=0.1.4 (from huggingface_hub[hf_xet])\n",
      "  Downloading hf_xet-1.0.3-cp37-abi3-manylinux_2_17_x86_64.manylinux2014_x86_64.whl.metadata (494 bytes)\n",
      "Requirement already satisfied: charset-normalizer<4,>=2 in ./.venv/lib/python3.10/site-packages (from requests->huggingface_hub[hf_xet]) (3.4.1)\n",
      "Requirement already satisfied: idna<4,>=2.5 in ./.venv/lib/python3.10/site-packages (from requests->huggingface_hub[hf_xet]) (3.10)\n",
      "Requirement already satisfied: urllib3<3,>=1.21.1 in ./.venv/lib/python3.10/site-packages (from requests->huggingface_hub[hf_xet]) (2.4.0)\n",
      "Requirement already satisfied: certifi>=2017.4.17 in ./.venv/lib/python3.10/site-packages (from requests->huggingface_hub[hf_xet]) (2025.1.31)\n",
      "Downloading hf_xet-1.0.3-cp37-abi3-manylinux_2_17_x86_64.manylinux2014_x86_64.whl (53.8 MB)\n",
      "\u001b[2K   \u001b[90m━━━━━━━━━━━━━━━━━━━━━━━━━━━━━━━━━━━━━━━━\u001b[0m \u001b[32m53.8/53.8 MB\u001b[0m \u001b[31m26.9 MB/s\u001b[0m eta \u001b[36m0:00:00\u001b[0m00:01\u001b[0m00:01\u001b[0m\n",
      "\u001b[?25hInstalling collected packages: hf-xet\n",
      "Successfully installed hf-xet-1.0.3\n"
     ]
    }
   ],
   "source": [
    "!pip install huggingface_hub[hf_xet]"
   ]
  },
  {
   "cell_type": "code",
   "execution_count": 2,
   "id": "31b3a275",
   "metadata": {},
   "outputs": [
    {
     "name": "stderr",
     "output_type": "stream",
     "text": [
      "/home/onyxia/work/ensae_3A_S2_NLP/.venv/lib/python3.10/site-packages/tqdm/auto.py:21: TqdmWarning: IProgress not found. Please update jupyter and ipywidgets. See https://ipywidgets.readthedocs.io/en/stable/user_install.html\n",
      "  from .autonotebook import tqdm as notebook_tqdm\n"
     ]
    }
   ],
   "source": [
    "\"\"\"Importation of libraries\"\"\"\n",
    "import torch\n",
    "import matplotlib.pyplot as plt\n",
    "import transformers\n",
    "import pandas as pd\n",
    "import numpy as np\n",
    "from tqdm import tqdm\n",
    "from transformers import pipeline, AutoTokenizer, AutoModelForSequenceClassification\n",
    "from sklearn.metrics import accuracy_score, confusion_matrix, classification_report, ConfusionMatrixDisplay"
   ]
  },
  {
   "cell_type": "code",
   "execution_count": 3,
   "id": "3860b222",
   "metadata": {},
   "outputs": [],
   "source": [
    "# loading training and test data\n",
    "df_train = pd.read_parquet(\"data/df_train.parquet\")\n",
    "df_test = pd.read_parquet(\"data/df_test.parquet\")"
   ]
  },
  {
   "cell_type": "code",
   "execution_count": 4,
   "id": "789fccbe",
   "metadata": {},
   "outputs": [
    {
     "data": {
      "text/html": [
       "<div>\n",
       "<style scoped>\n",
       "    .dataframe tbody tr th:only-of-type {\n",
       "        vertical-align: middle;\n",
       "    }\n",
       "\n",
       "    .dataframe tbody tr th {\n",
       "        vertical-align: top;\n",
       "    }\n",
       "\n",
       "    .dataframe thead th {\n",
       "        text-align: right;\n",
       "    }\n",
       "</style>\n",
       "<table border=\"1\" class=\"dataframe\">\n",
       "  <thead>\n",
       "    <tr style=\"text-align: right;\">\n",
       "      <th></th>\n",
       "      <th>texte</th>\n",
       "      <th>label</th>\n",
       "    </tr>\n",
       "  </thead>\n",
       "  <tbody>\n",
       "    <tr>\n",
       "      <th>6868</th>\n",
       "      <td>Warning: If the Coen Brothers or David Lynch d...</td>\n",
       "      <td>1</td>\n",
       "    </tr>\n",
       "    <tr>\n",
       "      <th>24016</th>\n",
       "      <td>I deliberately did not read any reviews of thi...</td>\n",
       "      <td>0</td>\n",
       "    </tr>\n",
       "    <tr>\n",
       "      <th>9668</th>\n",
       "      <td>I give this a 10 out of 10, not because the pl...</td>\n",
       "      <td>1</td>\n",
       "    </tr>\n",
       "    <tr>\n",
       "      <th>13640</th>\n",
       "      <td>This film gives new meaning to the term \"uneve...</td>\n",
       "      <td>0</td>\n",
       "    </tr>\n",
       "    <tr>\n",
       "      <th>14018</th>\n",
       "      <td>While I can't say whether or not Larry Hama ev...</td>\n",
       "      <td>1</td>\n",
       "    </tr>\n",
       "  </tbody>\n",
       "</table>\n",
       "</div>"
      ],
      "text/plain": [
       "                                                   texte  label\n",
       "6868   Warning: If the Coen Brothers or David Lynch d...      1\n",
       "24016  I deliberately did not read any reviews of thi...      0\n",
       "9668   I give this a 10 out of 10, not because the pl...      1\n",
       "13640  This film gives new meaning to the term \"uneve...      0\n",
       "14018  While I can't say whether or not Larry Hama ev...      1"
      ]
     },
     "execution_count": 4,
     "metadata": {},
     "output_type": "execute_result"
    }
   ],
   "source": [
    "# reduction of df_test\n",
    "df_test_sample = df_test.sample(n=2000, random_state=42).copy()\n",
    "df_test_sample.head()"
   ]
  },
  {
   "cell_type": "code",
   "execution_count": 5,
   "id": "724ba361",
   "metadata": {},
   "outputs": [],
   "source": [
    "\"\"\"Loading the model and tokenizer\"\"\"\n",
    "\n",
    "model_name = \"distilbert-base-uncased-finetuned-sst-2-english\"\n",
    "tokenizer = AutoTokenizer.from_pretrained(model_name)\n",
    "model = AutoModelForSequenceClassification.from_pretrained(model_name)"
   ]
  },
  {
   "cell_type": "code",
   "execution_count": 6,
   "id": "ddb539d1",
   "metadata": {},
   "outputs": [],
   "source": [
    "\"\"\"Function to predict sentiment with fine-tuned DistilBERT model\"\"\"\n",
    "\n",
    "def predict_sentiment(texts):\n",
    "    # tokenization\n",
    "    inputs = tokenizer(texts, padding=True, truncation=True, max_length=512, return_tensors=\"pt\")\n",
    "    \n",
    "    # prediction\n",
    "    with torch.no_grad():\n",
    "        outputs = model(**inputs)\n",
    "        predictions = torch.nn.functional.softmax(outputs.logits, dim=-1)\n",
    "        predicted_labels = torch.argmax(predictions, dim=1).tolist()\n",
    "    \n",
    "    return predicted_labels\n"
   ]
  },
  {
   "cell_type": "code",
   "execution_count": 7,
   "id": "de32d2f0",
   "metadata": {},
   "outputs": [
    {
     "name": "stdout",
     "output_type": "stream",
     "text": [
      "[0]\n",
      "[1]\n"
     ]
    }
   ],
   "source": [
    "# apply the predict_sentiment fuction to some examples\n",
    "print(predict_sentiment(\"It's such a stupid movie\"))\n",
    "print(predict_sentiment(\"It's such a great movie\"))"
   ]
  },
  {
   "cell_type": "code",
   "execution_count": 8,
   "id": "ed055636",
   "metadata": {},
   "outputs": [],
   "source": [
    "\"\"\"PREDICTION on our test dataset\"\"\"\n",
    "\n",
    "# apply the predict_sentiment function\n",
    "predicted_labels = predict_sentiment(df_test_sample['texte'].tolist())\n",
    "\n",
    "# add predictions to dataframe\n",
    "df_test_sample['predicted_label'] = predicted_labels"
   ]
  },
  {
   "cell_type": "code",
   "execution_count": 15,
   "id": "414861bc",
   "metadata": {},
   "outputs": [
    {
     "name": "stdout",
     "output_type": "stream",
     "text": [
      "Average accuracy: 0.8980 (89.80%)\n",
      "\n",
      "Classification report:\n",
      "              precision    recall  f1-score   support\n",
      "\n",
      "negative (0)       0.88      0.92      0.90      1002\n",
      "positive (1)       0.91      0.88      0.90       998\n",
      "\n",
      "    accuracy                           0.90      2000\n",
      "   macro avg       0.90      0.90      0.90      2000\n",
      "weighted avg       0.90      0.90      0.90      2000\n",
      "\n",
      "\n",
      "Confusion matrix:\n",
      "[[919  83]\n",
      " [121 877]]\n"
     ]
    },
    {
     "data": {
      "text/plain": [
       "<Figure size 1000x600 with 0 Axes>"
      ]
     },
     "metadata": {},
     "output_type": "display_data"
    },
    {
     "data": {
      "image/png": "[encoded data removed]",
      "text/plain": [
       "<Figure size 640x480 with 2 Axes>"
      ]
     },
     "metadata": {},
     "output_type": "display_data"
    }
   ],
   "source": [
    "\"\"\" Compute results and metrics, plot and saves confusion matrix\"\"\"\n",
    "\n",
    "df_results = df_test_sample.copy()\n",
    "\n",
    "y_true = df_results['label']\n",
    "y_pred = df_results['predicted_label']\n",
    "\n",
    "# compute accuracy\n",
    "accuracy = accuracy_score(y_true, y_pred)\n",
    "print(f\"Average accuracy: {accuracy:.4f} ({accuracy:.2%})\")\n",
    "\n",
    "# generate classification report\n",
    "report = classification_report(y_true, y_pred, target_names=['negative (0)', 'positive (1)'])\n",
    "print(\"\\nClassification report:\")\n",
    "print(report)\n",
    "\n",
    "# compute and print confusion matrix\n",
    "cm = confusion_matrix(y_true, y_pred)\n",
    "print(\"\\nConfusion matrix:\")\n",
    "print(cm)\n",
    "\n",
    "# visualize confusion matrix\n",
    "plt.figure(figsize=(10, 6))\n",
    "disp = ConfusionMatrixDisplay(confusion_matrix=cm, display_labels=['negative (0)', 'positive (1)'])\n",
    "disp.plot(cmap=plt.cm.Greens, values_format='d')\n",
    "plt.title('Confusion matrix - DistilBERT fine-tuned on SST2')\n",
    "plt.tight_layout()  # <-- Ajout ici pour éviter de couper les éléments\n",
    "plt.savefig('output/confusion_matrix_distilbert.png', dpi=300)\n",
    "plt.show()\n"
   ]
  },
  {
   "cell_type": "code",
   "execution_count": null,
   "id": "ded12d2b",
   "metadata": {},
   "outputs": [],
   "source": []
  }
 ],
 "metadata": {
  "kernelspec": {
   "display_name": ".venv",
   "language": "python",
   "name": "python3"
  },
  "language_info": {
   "codemirror_mode": {
    "name": "ipython",
    "version": 3
   },
   "file_extension": ".py",
   "mimetype": "text/x-python",
   "name": "python",
   "nbconvert_exporter": "python",
   "pygments_lexer": "ipython3",
   "version": "3.10.12"
  }
 },
 "nbformat": 4,
 "nbformat_minor": 5
}
