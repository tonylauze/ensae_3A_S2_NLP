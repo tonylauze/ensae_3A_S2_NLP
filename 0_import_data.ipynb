{
 "cells": [
  {
   "cell_type": "markdown",
   "id": "9457f83d",
   "metadata": {},
   "source": [
    "# 0 – Data Importation and Visualization\n",
    "\n",
    "In this notebook, we import the dataset used by the paper *Learning Word Vectors for Sentiment Analysis* by Maas et al. (2011), and save it in a `/data` folder which will be ignored by git. The dataset is stored as two dataframes, `df_train` and `df_test`, saved in `parquet` containing the labeled IMDb texts.\n",
    "\n",
    "This dataset contains movie reviews along with their associated binary sentiment polarity labels. The core dataset consists of 50,000 reviews, split evenly into 25k training and 25k test sets. The overall distribution of labels is balanced (25k positive and 25k negative).\n"
   ]
  },
  {
   "cell_type": "code",
   "execution_count": 1,
   "id": "9115029d",
   "metadata": {},
   "outputs": [],
   "source": [
    "import os\n",
    "import tarfile\n",
    "import urllib.request\n",
    "import pandas as pd"
   ]
  },
  {
   "cell_type": "code",
   "execution_count": 2,
   "id": "78cee95c",
   "metadata": {},
   "outputs": [
    {
     "name": "stdout",
     "output_type": "stream",
     "text": [
      "The file already exists.\n",
      "The data is already extracted.\n"
     ]
    }
   ],
   "source": [
    "# Paths and URL\n",
    "url = \"https://ai.stanford.edu/~amaas/data/sentiment/aclImdb_v1.tar.gz\"\n",
    "dossier_data = \"data\"\n",
    "fichier_tar = os.path.join(dossier_data, \"aclImdb_v1.tar.gz\")\n",
    "dossier_extrait = os.path.join(dossier_data, \"aclImdb\")\n",
    "\n",
    "# Create the data folder if it doesn't exist\n",
    "os.makedirs(dossier_data, exist_ok=True)\n",
    "\n",
    "# Download the file if it doesn't already exist\n",
    "if not os.path.exists(fichier_tar):\n",
    "    print(\"Downloading data...\")\n",
    "    urllib.request.urlretrieve(url, filename=fichier_tar)\n",
    "    print(\"Download complete.\")\n",
    "else:\n",
    "    print(\"The file already exists.\")\n",
    "\n",
    "# Extract the data if it hasn't been extracted yet\n",
    "if not os.path.exists(dossier_extrait):\n",
    "    print(\"Extracting data...\")\n",
    "    with tarfile.open(fichier_tar, \"r:gz\") as tar:\n",
    "        tar.extractall(path=dossier_data)\n",
    "    print(\"Extraction complete.\")\n",
    "else:\n",
    "    print(\"The data is already extracted.\")"
   ]
  },
  {
   "cell_type": "code",
   "execution_count": 4,
   "id": "7025dbea",
   "metadata": {},
   "outputs": [
    {
     "data": {
      "text/html": [
       "<div>\n",
       "<style scoped>\n",
       "    .dataframe tbody tr th:only-of-type {\n",
       "        vertical-align: middle;\n",
       "    }\n",
       "\n",
       "    .dataframe tbody tr th {\n",
       "        vertical-align: top;\n",
       "    }\n",
       "\n",
       "    .dataframe thead th {\n",
       "        text-align: right;\n",
       "    }\n",
       "</style>\n",
       "<table border=\"1\" class=\"dataframe\">\n",
       "  <thead>\n",
       "    <tr style=\"text-align: right;\">\n",
       "      <th></th>\n",
       "      <th>texte</th>\n",
       "      <th>label</th>\n",
       "    </tr>\n",
       "  </thead>\n",
       "  <tbody>\n",
       "    <tr>\n",
       "      <th>0</th>\n",
       "      <td>A most recommendable masterpiece, not only for...</td>\n",
       "      <td>1</td>\n",
       "    </tr>\n",
       "    <tr>\n",
       "      <th>1</th>\n",
       "      <td>Full disclosure: I'm a cynic. I like my ending...</td>\n",
       "      <td>1</td>\n",
       "    </tr>\n",
       "    <tr>\n",
       "      <th>2</th>\n",
       "      <td>For quite a long time in my life, I either did...</td>\n",
       "      <td>1</td>\n",
       "    </tr>\n",
       "    <tr>\n",
       "      <th>3</th>\n",
       "      <td>Richard Attenborough who already given us magn...</td>\n",
       "      <td>1</td>\n",
       "    </tr>\n",
       "    <tr>\n",
       "      <th>4</th>\n",
       "      <td>I remember the first time I saw this movie -- ...</td>\n",
       "      <td>1</td>\n",
       "    </tr>\n",
       "  </tbody>\n",
       "</table>\n",
       "</div>"
      ],
      "text/plain": [
       "                                               texte  label\n",
       "0  A most recommendable masterpiece, not only for...      1\n",
       "1  Full disclosure: I'm a cynic. I like my ending...      1\n",
       "2  For quite a long time in my life, I either did...      1\n",
       "3  Richard Attenborough who already given us magn...      1\n",
       "4  I remember the first time I saw this movie -- ...      1"
      ]
     },
     "execution_count": 4,
     "metadata": {},
     "output_type": "execute_result"
    }
   ],
   "source": [
    "# Paths\n",
    "dossier_train = os.path.join(\"data\", \"aclImdb\", \"train\")\n",
    "paths = {\n",
    "    \"pos\": os.path.join(dossier_train, \"pos\"),\n",
    "    \"neg\": os.path.join(dossier_train, \"neg\")\n",
    "}\n",
    "\n",
    "# Function to load the files\n",
    "def load_reviews(folder, label):\n",
    "    texts = []\n",
    "    for file_name in os.listdir(folder):\n",
    "        file_path = os.path.join(folder, file_name)\n",
    "        with open(file_path, encoding=\"utf-8\") as f:\n",
    "            texts.append(f.read())\n",
    "    return pd.DataFrame({\"texte\": texts, \"label\": label})\n",
    "\n",
    "# Load positive and negative reviews\n",
    "df_pos = load_reviews(paths[\"pos\"], label=1)\n",
    "df_neg = load_reviews(paths[\"neg\"], label=0)\n",
    "\n",
    "# Combine into a single DataFrame\n",
    "df_train = pd.concat([df_pos, df_neg], ignore_index=True)\n",
    "\n",
    "# Preview\n",
    "df_train.head()\n"
   ]
  },
  {
   "cell_type": "code",
   "execution_count": 6,
   "id": "45c141b8",
   "metadata": {},
   "outputs": [
    {
     "data": {
      "text/html": [
       "<div>\n",
       "<style scoped>\n",
       "    .dataframe tbody tr th:only-of-type {\n",
       "        vertical-align: middle;\n",
       "    }\n",
       "\n",
       "    .dataframe tbody tr th {\n",
       "        vertical-align: top;\n",
       "    }\n",
       "\n",
       "    .dataframe thead th {\n",
       "        text-align: right;\n",
       "    }\n",
       "</style>\n",
       "<table border=\"1\" class=\"dataframe\">\n",
       "  <thead>\n",
       "    <tr style=\"text-align: right;\">\n",
       "      <th></th>\n",
       "      <th>texte</th>\n",
       "      <th>label</th>\n",
       "    </tr>\n",
       "  </thead>\n",
       "  <tbody>\n",
       "    <tr>\n",
       "      <th>0</th>\n",
       "      <td>I don't cry easily over movies, but I have to ...</td>\n",
       "      <td>1</td>\n",
       "    </tr>\n",
       "    <tr>\n",
       "      <th>1</th>\n",
       "      <td>This movie stinks. IMDb needs negative numbers...</td>\n",
       "      <td>0</td>\n",
       "    </tr>\n",
       "    <tr>\n",
       "      <th>2</th>\n",
       "      <td>I loved the film \"Eddie Monroe\". The film had ...</td>\n",
       "      <td>1</td>\n",
       "    </tr>\n",
       "    <tr>\n",
       "      <th>3</th>\n",
       "      <td>This movie made my face hurt. I don't understa...</td>\n",
       "      <td>0</td>\n",
       "    </tr>\n",
       "    <tr>\n",
       "      <th>4</th>\n",
       "      <td>I think Downey was perhaps inspired by French ...</td>\n",
       "      <td>0</td>\n",
       "    </tr>\n",
       "  </tbody>\n",
       "</table>\n",
       "</div>"
      ],
      "text/plain": [
       "                                               texte  label\n",
       "0  I don't cry easily over movies, but I have to ...      1\n",
       "1  This movie stinks. IMDb needs negative numbers...      0\n",
       "2  I loved the film \"Eddie Monroe\". The film had ...      1\n",
       "3  This movie made my face hurt. I don't understa...      0\n",
       "4  I think Downey was perhaps inspired by French ...      0"
      ]
     },
     "execution_count": 6,
     "metadata": {},
     "output_type": "execute_result"
    }
   ],
   "source": [
    "# Paths for test data\n",
    "dossier_test = os.path.join(\"data\", \"aclImdb\", \"test\")\n",
    "paths_test = {\n",
    "    \"pos\": os.path.join(dossier_test, \"pos\"),\n",
    "    \"neg\": os.path.join(dossier_test, \"neg\")\n",
    "}\n",
    "\n",
    "# Load positive and negative reviews for test\n",
    "df_test_pos = load_reviews(paths_test[\"pos\"], label=1)\n",
    "df_test_neg = load_reviews(paths_test[\"neg\"], label=0)\n",
    "\n",
    "# Combine into a single DataFrame\n",
    "df_test = pd.concat([df_test_pos, df_test_neg], ignore_index=True)\n",
    "\n",
    "# Shuffle the rows\n",
    "df_test = df_test.sample(frac=1, random_state=42).reset_index(drop=True)\n",
    "\n",
    "# Preview\n",
    "df_test.head()\n"
   ]
  },
  {
   "cell_type": "code",
   "execution_count": 7,
   "id": "f2f149e8",
   "metadata": {},
   "outputs": [],
   "source": [
    "\"\"\" Saves df_train and df_test\"\"\"\n",
    "output_path_train = \"data/df_train.parquet\"\n",
    "output_path_test = \"data/df_test.parquet\"\n",
    "\n",
    "df_train.to_parquet(output_path_train, index=False)\n",
    "df_test.to_parquet(output_path_test, index=False)"
   ]
  }
 ],
 "metadata": {
  "kernelspec": {
   "display_name": ".venv",
   "language": "python",
   "name": "python3"
  },
  "language_info": {
   "codemirror_mode": {
    "name": "ipython",
    "version": 3
   },
   "file_extension": ".py",
   "mimetype": "text/x-python",
   "name": "python",
   "nbconvert_exporter": "python",
   "pygments_lexer": "ipython3",
   "version": "3.10.12"
  }
 },
 "nbformat": 4,
 "nbformat_minor": 5
}
