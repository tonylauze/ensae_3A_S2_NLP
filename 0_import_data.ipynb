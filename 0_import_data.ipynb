{
 "cells": [
  {
   "cell_type": "code",
   "execution_count": 2,
   "id": "9115029d",
   "metadata": {},
   "outputs": [],
   "source": [
    "import os\n",
    "import tarfile\n",
    "import urllib.request\n",
    "import pandas as pd"
   ]
  },
  {
   "cell_type": "code",
   "execution_count": 3,
   "id": "78cee95c",
   "metadata": {},
   "outputs": [
    {
     "name": "stdout",
     "output_type": "stream",
     "text": [
      "Téléchargement des données...\n",
      "Téléchargement terminé.\n",
      "Extraction des données...\n",
      "Extraction terminée.\n"
     ]
    }
   ],
   "source": [
    "# Chemins et URL\n",
    "url = \"https://ai.stanford.edu/~amaas/data/sentiment/aclImdb_v1.tar.gz\"\n",
    "dossier_data = \"data\"\n",
    "fichier_tar = os.path.join(dossier_data, \"aclImdb_v1.tar.gz\")\n",
    "dossier_extrait = os.path.join(dossier_data, \"aclImdb\")\n",
    "\n",
    "# Créer le dossier data s'il n'existe pas\n",
    "os.makedirs(dossier_data, exist_ok=True)\n",
    "\n",
    "# Télécharger le fichier si ce n'est pas déjà fait\n",
    "if not os.path.exists(fichier_tar):\n",
    "    print(\"Téléchargement des données...\")\n",
    "    urllib.request.urlretrieve(url, filename=fichier_tar)\n",
    "    print(\"Téléchargement terminé.\")\n",
    "else:\n",
    "    print(\"Le fichier existe déjà.\")\n",
    "\n",
    "# Extraire les données si ce n'est pas déjà fait\n",
    "if not os.path.exists(dossier_extrait):\n",
    "    print(\"Extraction des données...\")\n",
    "    with tarfile.open(fichier_tar, \"r:gz\") as tar:\n",
    "        tar.extractall(path=dossier_data)\n",
    "    print(\"Extraction terminée.\")\n",
    "else:\n",
    "    print(\"Les données sont déjà extraites.\")"
   ]
  },
  {
   "cell_type": "code",
   "execution_count": 4,
   "id": "7025dbea",
   "metadata": {},
   "outputs": [
    {
     "data": {
      "text/html": [
       "<div>\n",
       "<style scoped>\n",
       "    .dataframe tbody tr th:only-of-type {\n",
       "        vertical-align: middle;\n",
       "    }\n",
       "\n",
       "    .dataframe tbody tr th {\n",
       "        vertical-align: top;\n",
       "    }\n",
       "\n",
       "    .dataframe thead th {\n",
       "        text-align: right;\n",
       "    }\n",
       "</style>\n",
       "<table border=\"1\" class=\"dataframe\">\n",
       "  <thead>\n",
       "    <tr style=\"text-align: right;\">\n",
       "      <th></th>\n",
       "      <th>texte</th>\n",
       "      <th>label</th>\n",
       "    </tr>\n",
       "  </thead>\n",
       "  <tbody>\n",
       "    <tr>\n",
       "      <th>0</th>\n",
       "      <td>This is a great movie from the lost age of rea...</td>\n",
       "      <td>1</td>\n",
       "    </tr>\n",
       "    <tr>\n",
       "      <th>1</th>\n",
       "      <td>ALL FOR LOVE ( as it titled when it was broadc...</td>\n",
       "      <td>0</td>\n",
       "    </tr>\n",
       "    <tr>\n",
       "      <th>2</th>\n",
       "      <td>The Unborn is a very, very different film. Jam...</td>\n",
       "      <td>1</td>\n",
       "    </tr>\n",
       "    <tr>\n",
       "      <th>3</th>\n",
       "      <td>Wow, here it finally is; the action \"movie\" wi...</td>\n",
       "      <td>0</td>\n",
       "    </tr>\n",
       "    <tr>\n",
       "      <th>4</th>\n",
       "      <td>I agree totally with the last commenter this c...</td>\n",
       "      <td>0</td>\n",
       "    </tr>\n",
       "  </tbody>\n",
       "</table>\n",
       "</div>"
      ],
      "text/plain": [
       "                                               texte  label\n",
       "0  This is a great movie from the lost age of rea...      1\n",
       "1  ALL FOR LOVE ( as it titled when it was broadc...      0\n",
       "2  The Unborn is a very, very different film. Jam...      1\n",
       "3  Wow, here it finally is; the action \"movie\" wi...      0\n",
       "4  I agree totally with the last commenter this c...      0"
      ]
     },
     "execution_count": 4,
     "metadata": {},
     "output_type": "execute_result"
    }
   ],
   "source": [
    "# Chemins\n",
    "dossier_train = os.path.join(\"data\", \"aclImdb\", \"train\")\n",
    "chemins = {\n",
    "    \"pos\": os.path.join(dossier_train, \"pos\"),\n",
    "    \"neg\": os.path.join(dossier_train, \"neg\")\n",
    "}\n",
    "\n",
    "# Fonction pour charger les fichiers\n",
    "def charger_avis(dossier, label):\n",
    "    textes = []\n",
    "    for nom_fichier in os.listdir(dossier):\n",
    "        chemin_fichier = os.path.join(dossier, nom_fichier)\n",
    "        with open(chemin_fichier, encoding=\"utf-8\") as f:\n",
    "            textes.append(f.read())\n",
    "    return pd.DataFrame({\"texte\": textes, \"label\": label})\n",
    "\n",
    "# Charger les avis positifs et négatifs\n",
    "df_pos = charger_avis(chemins[\"pos\"], label=1)\n",
    "df_neg = charger_avis(chemins[\"neg\"], label=0)\n",
    "\n",
    "# Combiner en un seul DataFrame\n",
    "df_train = pd.concat([df_pos, df_neg], ignore_index=True)\n",
    "\n",
    "# Mélanger les lignes\n",
    "df_train = df_train.sample(frac=1, random_state=42).reset_index(drop=True)\n",
    "\n",
    "# Aperçu\n",
    "df_train.head()"
   ]
  },
  {
   "cell_type": "code",
   "execution_count": 5,
   "id": "45c141b8",
   "metadata": {},
   "outputs": [
    {
     "data": {
      "text/html": [
       "<div>\n",
       "<style scoped>\n",
       "    .dataframe tbody tr th:only-of-type {\n",
       "        vertical-align: middle;\n",
       "    }\n",
       "\n",
       "    .dataframe tbody tr th {\n",
       "        vertical-align: top;\n",
       "    }\n",
       "\n",
       "    .dataframe thead th {\n",
       "        text-align: right;\n",
       "    }\n",
       "</style>\n",
       "<table border=\"1\" class=\"dataframe\">\n",
       "  <thead>\n",
       "    <tr style=\"text-align: right;\">\n",
       "      <th></th>\n",
       "      <th>texte</th>\n",
       "      <th>label</th>\n",
       "    </tr>\n",
       "  </thead>\n",
       "  <tbody>\n",
       "    <tr>\n",
       "      <th>0</th>\n",
       "      <td>I don't cry easily over movies, but I have to ...</td>\n",
       "      <td>1</td>\n",
       "    </tr>\n",
       "    <tr>\n",
       "      <th>1</th>\n",
       "      <td>This movie stinks. IMDb needs negative numbers...</td>\n",
       "      <td>0</td>\n",
       "    </tr>\n",
       "    <tr>\n",
       "      <th>2</th>\n",
       "      <td>I loved the film \"Eddie Monroe\". The film had ...</td>\n",
       "      <td>1</td>\n",
       "    </tr>\n",
       "    <tr>\n",
       "      <th>3</th>\n",
       "      <td>This movie made my face hurt. I don't understa...</td>\n",
       "      <td>0</td>\n",
       "    </tr>\n",
       "    <tr>\n",
       "      <th>4</th>\n",
       "      <td>I think Downey was perhaps inspired by French ...</td>\n",
       "      <td>0</td>\n",
       "    </tr>\n",
       "  </tbody>\n",
       "</table>\n",
       "</div>"
      ],
      "text/plain": [
       "                                               texte  label\n",
       "0  I don't cry easily over movies, but I have to ...      1\n",
       "1  This movie stinks. IMDb needs negative numbers...      0\n",
       "2  I loved the film \"Eddie Monroe\". The film had ...      1\n",
       "3  This movie made my face hurt. I don't understa...      0\n",
       "4  I think Downey was perhaps inspired by French ...      0"
      ]
     },
     "execution_count": 5,
     "metadata": {},
     "output_type": "execute_result"
    }
   ],
   "source": [
    "# Chemins pour les données de test\n",
    "dossier_test = os.path.join(\"data\", \"aclImdb\", \"test\")\n",
    "chemins_test = {\n",
    "    \"pos\": os.path.join(dossier_test, \"pos\"),\n",
    "    \"neg\": os.path.join(dossier_test, \"neg\")\n",
    "}\n",
    "\n",
    "# Charger les avis positifs et négatifs pour test\n",
    "df_test_pos = charger_avis(chemins_test[\"pos\"], label=1)\n",
    "df_test_neg = charger_avis(chemins_test[\"neg\"], label=0)\n",
    "\n",
    "# Combiner en un seul DataFrame\n",
    "df_test = pd.concat([df_test_pos, df_test_neg], ignore_index=True)\n",
    "\n",
    "# Mélanger les lignes\n",
    "df_test = df_test.sample(frac=1, random_state=42).reset_index(drop=True)\n",
    "\n",
    "# Aperçu\n",
    "df_test.head()\n"
   ]
  },
  {
   "cell_type": "code",
   "execution_count": 6,
   "id": "f2f149e8",
   "metadata": {},
   "outputs": [],
   "source": [
    "output_path_train = \"data/df_train.parquet\"\n",
    "output_path_test = \"data/df_test.parquet\"\n",
    "\n",
    "df_train.to_parquet(output_path_train, index=False)\n",
    "df_test.to_parquet(output_path_test, index=False)"
   ]
  },
  {
   "cell_type": "code",
   "execution_count": null,
   "id": "845257f5",
   "metadata": {},
   "outputs": [],
   "source": []
  }
 ],
 "metadata": {
  "kernelspec": {
   "display_name": ".venv",
   "language": "python",
   "name": "python3"
  },
  "language_info": {
   "codemirror_mode": {
    "name": "ipython",
    "version": 3
   },
   "file_extension": ".py",
   "mimetype": "text/x-python",
   "name": "python",
   "nbconvert_exporter": "python",
   "pygments_lexer": "ipython3",
   "version": "3.10.12"
  }
 },
 "nbformat": 4,
 "nbformat_minor": 5
}
