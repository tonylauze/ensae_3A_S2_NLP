{
 "cells": [
  {
   "cell_type": "code",
   "execution_count": 1,
   "id": "9115029d",
   "metadata": {},
   "outputs": [],
   "source": [
    "import os\n",
    "import tarfile\n",
    "import urllib.request"
   ]
  },
  {
   "cell_type": "code",
   "execution_count": 2,
   "id": "78cee95c",
   "metadata": {},
   "outputs": [
    {
     "name": "stdout",
     "output_type": "stream",
     "text": [
      "Téléchargement des données...\n",
      "Téléchargement terminé.\n",
      "Extraction des données...\n",
      "Extraction terminée.\n"
     ]
    }
   ],
   "source": [
    "# Chemins et URL\n",
    "url = \"https://ai.stanford.edu/~amaas/data/sentiment/aclImdb_v1.tar.gz\"\n",
    "dossier_data = \"data\"\n",
    "fichier_tar = os.path.join(dossier_data, \"aclImdb_v1.tar.gz\")\n",
    "dossier_extrait = os.path.join(dossier_data, \"aclImdb\")\n",
    "\n",
    "# Créer le dossier data s'il n'existe pas\n",
    "os.makedirs(dossier_data, exist_ok=True)\n",
    "\n",
    "# Télécharger le fichier si ce n'est pas déjà fait\n",
    "if not os.path.exists(fichier_tar):\n",
    "    print(\"Téléchargement des données...\")\n",
    "    urllib.request.urlretrieve(url, filename=fichier_tar)\n",
    "    print(\"Téléchargement terminé.\")\n",
    "else:\n",
    "    print(\"Le fichier existe déjà.\")\n",
    "\n",
    "# Extraire les données si ce n'est pas déjà fait\n",
    "if not os.path.exists(dossier_extrait):\n",
    "    print(\"Extraction des données...\")\n",
    "    with tarfile.open(fichier_tar, \"r:gz\") as tar:\n",
    "        tar.extractall(path=dossier_data)\n",
    "    print(\"Extraction terminée.\")\n",
    "else:\n",
    "    print(\"Les données sont déjà extraites.\")"
   ]
  },
  {
   "cell_type": "code",
   "execution_count": null,
   "id": "7025dbea",
   "metadata": {},
   "outputs": [],
   "source": []
  }
 ],
 "metadata": {
  "kernelspec": {
   "display_name": ".venv",
   "language": "python",
   "name": "python3"
  },
  "language_info": {
   "codemirror_mode": {
    "name": "ipython",
    "version": 3
   },
   "file_extension": ".py",
   "mimetype": "text/x-python",
   "name": "python",
   "nbconvert_exporter": "python",
   "pygments_lexer": "ipython3",
   "version": "3.10.12"
  }
 },
 "nbformat": 4,
 "nbformat_minor": 5
}
